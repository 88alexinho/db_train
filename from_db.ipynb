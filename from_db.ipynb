{
 "cells": [
  {
   "cell_type": "code",
   "execution_count": 1,
   "id": "fa152717-dcae-4e0e-86f8-3e88799dd8c8",
   "metadata": {
    "tags": []
   },
   "outputs": [],
   "source": [
    "import sqlite3"
   ]
  },
  {
   "cell_type": "code",
   "execution_count": 2,
   "id": "1dd2b15b-d936-4f04-950e-453aade86f57",
   "metadata": {
    "tags": []
   },
   "outputs": [],
   "source": [
    "connection = sqlite3.connect('db_train.db')"
   ]
  },
  {
   "cell_type": "code",
   "execution_count": 3,
   "id": "1d38bd19-afc2-4785-bd9e-07508ae2e596",
   "metadata": {
    "tags": []
   },
   "outputs": [],
   "source": [
    "cursor = connection.cursor()"
   ]
  },
  {
   "cell_type": "code",
   "execution_count": 4,
   "id": "05a5746b-8f8a-48ca-aef2-d720986a7142",
   "metadata": {
    "tags": []
   },
   "outputs": [],
   "source": [
    "query = 'SELECT * FROM Users'"
   ]
  },
  {
   "cell_type": "code",
   "execution_count": 5,
   "id": "786868b0-a916-4e6b-b9da-f5ac81e34d44",
   "metadata": {
    "tags": []
   },
   "outputs": [
    {
     "data": {
      "text/plain": [
       "<sqlite3.Cursor at 0x2d47fafe8c0>"
      ]
     },
     "execution_count": 5,
     "metadata": {},
     "output_type": "execute_result"
    }
   ],
   "source": [
    "cursor.execute(query)"
   ]
  },
  {
   "cell_type": "code",
   "execution_count": 6,
   "id": "d58a2ef8-c79c-45d9-a0dd-2ac9ab738095",
   "metadata": {
    "tags": []
   },
   "outputs": [],
   "source": [
    "result = cursor.fetchall()"
   ]
  },
  {
   "cell_type": "code",
   "execution_count": 7,
   "id": "1226f954-9e62-4361-94d7-b59db9d4cf21",
   "metadata": {
    "tags": []
   },
   "outputs": [
    {
     "name": "stdout",
     "output_type": "stream",
     "text": [
      "(15, 'Alexey', 'alex12_8belov@mail.ru', 27)\n",
      "(16, 'Anastasiya', 'nasty_belova@mail.ru', 28)\n",
      "(17, 'Kate', 'kate_belova@mail.ru', 29)\n",
      "(18, 'Igor', 'igor_kaif@mail.ru', 24)\n",
      "(19, 'Oleg', 'oleg_igget@mail.ru', 32)\n",
      "(20, 'Vasya', 'vasya@mail.ru', 41)\n",
      "(21, 'Masha', 'masha@mail.ru', 21)\n",
      "(22, 'Petr', 'PeTer@mail.ru', 24)\n",
      "(23, 'Ivan', 'Ivanches@mail.ru', 25)\n",
      "(24, 'Olesya', 'Ol@mail.ru', 31)\n",
      "(25, 'Irina', 'Ir@mail.ru', 61)\n",
      "(26, 'Vlad', 'Vladik@mail.ru', 24)\n",
      "(27, 'Gans', 'GNS@mail.ru', 32)\n",
      "(28, 'Mira', 'miiira@mail.ru', 41)\n",
      "(29, 'Lira', 'liiiira@mail.ru', 21)\n",
      "(30, 'Natali', 'Nat@mail.ru', 24)\n",
      "(31, 'Egor', 'egotchik_igget@mail.ru', 32)\n",
      "(32, 'John', 'jonnny@mail.ru', 81)\n",
      "(33, 'Sam', 'sam@mail.ru', 33)\n"
     ]
    }
   ],
   "source": [
    "for item in result:\n",
    "    print(item)"
   ]
  },
  {
   "cell_type": "code",
   "execution_count": 8,
   "id": "7f5cdb2f-eb9d-4ba6-8694-02d7e8188921",
   "metadata": {
    "tags": []
   },
   "outputs": [],
   "source": [
    "import pandas as pd"
   ]
  },
  {
   "cell_type": "code",
   "execution_count": 9,
   "id": "5cb496e7-1b1a-454c-8c9a-214a144fad62",
   "metadata": {
    "tags": []
   },
   "outputs": [],
   "source": [
    "df = pd.read_sql_query(query,connection)"
   ]
  },
  {
   "cell_type": "code",
   "execution_count": 10,
   "id": "01c9292b-a202-4c70-961b-1b3ed21b99da",
   "metadata": {
    "tags": []
   },
   "outputs": [
    {
     "data": {
      "text/html": [
       "<div>\n",
       "<style scoped>\n",
       "    .dataframe tbody tr th:only-of-type {\n",
       "        vertical-align: middle;\n",
       "    }\n",
       "\n",
       "    .dataframe tbody tr th {\n",
       "        vertical-align: top;\n",
       "    }\n",
       "\n",
       "    .dataframe thead th {\n",
       "        text-align: right;\n",
       "    }\n",
       "</style>\n",
       "<table border=\"1\" class=\"dataframe\">\n",
       "  <thead>\n",
       "    <tr style=\"text-align: right;\">\n",
       "      <th></th>\n",
       "      <th>id</th>\n",
       "      <th>username</th>\n",
       "      <th>email</th>\n",
       "      <th>age</th>\n",
       "    </tr>\n",
       "  </thead>\n",
       "  <tbody>\n",
       "    <tr>\n",
       "      <th>0</th>\n",
       "      <td>15</td>\n",
       "      <td>Alexey</td>\n",
       "      <td>alex12_8belov@mail.ru</td>\n",
       "      <td>27</td>\n",
       "    </tr>\n",
       "    <tr>\n",
       "      <th>1</th>\n",
       "      <td>16</td>\n",
       "      <td>Anastasiya</td>\n",
       "      <td>nasty_belova@mail.ru</td>\n",
       "      <td>28</td>\n",
       "    </tr>\n",
       "    <tr>\n",
       "      <th>2</th>\n",
       "      <td>17</td>\n",
       "      <td>Kate</td>\n",
       "      <td>kate_belova@mail.ru</td>\n",
       "      <td>29</td>\n",
       "    </tr>\n",
       "    <tr>\n",
       "      <th>3</th>\n",
       "      <td>18</td>\n",
       "      <td>Igor</td>\n",
       "      <td>igor_kaif@mail.ru</td>\n",
       "      <td>24</td>\n",
       "    </tr>\n",
       "    <tr>\n",
       "      <th>4</th>\n",
       "      <td>19</td>\n",
       "      <td>Oleg</td>\n",
       "      <td>oleg_igget@mail.ru</td>\n",
       "      <td>32</td>\n",
       "    </tr>\n",
       "    <tr>\n",
       "      <th>5</th>\n",
       "      <td>20</td>\n",
       "      <td>Vasya</td>\n",
       "      <td>vasya@mail.ru</td>\n",
       "      <td>41</td>\n",
       "    </tr>\n",
       "    <tr>\n",
       "      <th>6</th>\n",
       "      <td>21</td>\n",
       "      <td>Masha</td>\n",
       "      <td>masha@mail.ru</td>\n",
       "      <td>21</td>\n",
       "    </tr>\n",
       "    <tr>\n",
       "      <th>7</th>\n",
       "      <td>22</td>\n",
       "      <td>Petr</td>\n",
       "      <td>PeTer@mail.ru</td>\n",
       "      <td>24</td>\n",
       "    </tr>\n",
       "    <tr>\n",
       "      <th>8</th>\n",
       "      <td>23</td>\n",
       "      <td>Ivan</td>\n",
       "      <td>Ivanches@mail.ru</td>\n",
       "      <td>25</td>\n",
       "    </tr>\n",
       "    <tr>\n",
       "      <th>9</th>\n",
       "      <td>24</td>\n",
       "      <td>Olesya</td>\n",
       "      <td>Ol@mail.ru</td>\n",
       "      <td>31</td>\n",
       "    </tr>\n",
       "    <tr>\n",
       "      <th>10</th>\n",
       "      <td>25</td>\n",
       "      <td>Irina</td>\n",
       "      <td>Ir@mail.ru</td>\n",
       "      <td>61</td>\n",
       "    </tr>\n",
       "    <tr>\n",
       "      <th>11</th>\n",
       "      <td>26</td>\n",
       "      <td>Vlad</td>\n",
       "      <td>Vladik@mail.ru</td>\n",
       "      <td>24</td>\n",
       "    </tr>\n",
       "    <tr>\n",
       "      <th>12</th>\n",
       "      <td>27</td>\n",
       "      <td>Gans</td>\n",
       "      <td>GNS@mail.ru</td>\n",
       "      <td>32</td>\n",
       "    </tr>\n",
       "    <tr>\n",
       "      <th>13</th>\n",
       "      <td>28</td>\n",
       "      <td>Mira</td>\n",
       "      <td>miiira@mail.ru</td>\n",
       "      <td>41</td>\n",
       "    </tr>\n",
       "    <tr>\n",
       "      <th>14</th>\n",
       "      <td>29</td>\n",
       "      <td>Lira</td>\n",
       "      <td>liiiira@mail.ru</td>\n",
       "      <td>21</td>\n",
       "    </tr>\n",
       "    <tr>\n",
       "      <th>15</th>\n",
       "      <td>30</td>\n",
       "      <td>Natali</td>\n",
       "      <td>Nat@mail.ru</td>\n",
       "      <td>24</td>\n",
       "    </tr>\n",
       "    <tr>\n",
       "      <th>16</th>\n",
       "      <td>31</td>\n",
       "      <td>Egor</td>\n",
       "      <td>egotchik_igget@mail.ru</td>\n",
       "      <td>32</td>\n",
       "    </tr>\n",
       "    <tr>\n",
       "      <th>17</th>\n",
       "      <td>32</td>\n",
       "      <td>John</td>\n",
       "      <td>jonnny@mail.ru</td>\n",
       "      <td>81</td>\n",
       "    </tr>\n",
       "    <tr>\n",
       "      <th>18</th>\n",
       "      <td>33</td>\n",
       "      <td>Sam</td>\n",
       "      <td>sam@mail.ru</td>\n",
       "      <td>33</td>\n",
       "    </tr>\n",
       "  </tbody>\n",
       "</table>\n",
       "</div>"
      ],
      "text/plain": [
       "    id    username                   email  age\n",
       "0   15      Alexey   alex12_8belov@mail.ru   27\n",
       "1   16  Anastasiya    nasty_belova@mail.ru   28\n",
       "2   17        Kate     kate_belova@mail.ru   29\n",
       "3   18        Igor       igor_kaif@mail.ru   24\n",
       "4   19        Oleg      oleg_igget@mail.ru   32\n",
       "5   20       Vasya           vasya@mail.ru   41\n",
       "6   21       Masha           masha@mail.ru   21\n",
       "7   22        Petr           PeTer@mail.ru   24\n",
       "8   23        Ivan        Ivanches@mail.ru   25\n",
       "9   24      Olesya              Ol@mail.ru   31\n",
       "10  25       Irina              Ir@mail.ru   61\n",
       "11  26        Vlad          Vladik@mail.ru   24\n",
       "12  27        Gans             GNS@mail.ru   32\n",
       "13  28        Mira          miiira@mail.ru   41\n",
       "14  29        Lira         liiiira@mail.ru   21\n",
       "15  30      Natali             Nat@mail.ru   24\n",
       "16  31        Egor  egotchik_igget@mail.ru   32\n",
       "17  32        John          jonnny@mail.ru   81\n",
       "18  33         Sam             sam@mail.ru   33"
      ]
     },
     "execution_count": 10,
     "metadata": {},
     "output_type": "execute_result"
    }
   ],
   "source": [
    "df"
   ]
  },
  {
   "cell_type": "code",
   "execution_count": 11,
   "id": "565b6cf4-3ce2-4b34-9ff5-b4d60a956b50",
   "metadata": {
    "tags": []
   },
   "outputs": [
    {
     "data": {
      "text/html": [
       "<div>\n",
       "<style scoped>\n",
       "    .dataframe tbody tr th:only-of-type {\n",
       "        vertical-align: middle;\n",
       "    }\n",
       "\n",
       "    .dataframe tbody tr th {\n",
       "        vertical-align: top;\n",
       "    }\n",
       "\n",
       "    .dataframe thead th {\n",
       "        text-align: right;\n",
       "    }\n",
       "</style>\n",
       "<table border=\"1\" class=\"dataframe\">\n",
       "  <thead>\n",
       "    <tr style=\"text-align: right;\">\n",
       "      <th></th>\n",
       "      <th>id</th>\n",
       "      <th>age</th>\n",
       "    </tr>\n",
       "  </thead>\n",
       "  <tbody>\n",
       "    <tr>\n",
       "      <th>count</th>\n",
       "      <td>19.000000</td>\n",
       "      <td>19.000000</td>\n",
       "    </tr>\n",
       "    <tr>\n",
       "      <th>mean</th>\n",
       "      <td>24.000000</td>\n",
       "      <td>33.210526</td>\n",
       "    </tr>\n",
       "    <tr>\n",
       "      <th>std</th>\n",
       "      <td>5.627314</td>\n",
       "      <td>14.860757</td>\n",
       "    </tr>\n",
       "    <tr>\n",
       "      <th>min</th>\n",
       "      <td>15.000000</td>\n",
       "      <td>21.000000</td>\n",
       "    </tr>\n",
       "    <tr>\n",
       "      <th>25%</th>\n",
       "      <td>19.500000</td>\n",
       "      <td>24.000000</td>\n",
       "    </tr>\n",
       "    <tr>\n",
       "      <th>50%</th>\n",
       "      <td>24.000000</td>\n",
       "      <td>29.000000</td>\n",
       "    </tr>\n",
       "    <tr>\n",
       "      <th>75%</th>\n",
       "      <td>28.500000</td>\n",
       "      <td>32.500000</td>\n",
       "    </tr>\n",
       "    <tr>\n",
       "      <th>max</th>\n",
       "      <td>33.000000</td>\n",
       "      <td>81.000000</td>\n",
       "    </tr>\n",
       "  </tbody>\n",
       "</table>\n",
       "</div>"
      ],
      "text/plain": [
       "              id        age\n",
       "count  19.000000  19.000000\n",
       "mean   24.000000  33.210526\n",
       "std     5.627314  14.860757\n",
       "min    15.000000  21.000000\n",
       "25%    19.500000  24.000000\n",
       "50%    24.000000  29.000000\n",
       "75%    28.500000  32.500000\n",
       "max    33.000000  81.000000"
      ]
     },
     "execution_count": 11,
     "metadata": {},
     "output_type": "execute_result"
    }
   ],
   "source": [
    "df.describe()"
   ]
  },
  {
   "cell_type": "code",
   "execution_count": 12,
   "id": "48fbee77-5ea0-4f53-b0e5-fa06b344daf7",
   "metadata": {
    "tags": []
   },
   "outputs": [
    {
     "name": "stdout",
     "output_type": "stream",
     "text": [
      "<class 'pandas.core.frame.DataFrame'>\n",
      "RangeIndex: 19 entries, 0 to 18\n",
      "Data columns (total 4 columns):\n",
      " #   Column    Non-Null Count  Dtype \n",
      "---  ------    --------------  ----- \n",
      " 0   id        19 non-null     int64 \n",
      " 1   username  19 non-null     object\n",
      " 2   email     19 non-null     object\n",
      " 3   age       19 non-null     int64 \n",
      "dtypes: int64(2), object(2)\n",
      "memory usage: 740.0+ bytes\n"
     ]
    }
   ],
   "source": [
    "df.info()"
   ]
  },
  {
   "cell_type": "code",
   "execution_count": 13,
   "id": "dfffea1c-99f7-4713-83db-e6e14be5eb8e",
   "metadata": {
    "tags": []
   },
   "outputs": [
    {
     "data": {
      "text/plain": [
       "(19, 4)"
      ]
     },
     "execution_count": 13,
     "metadata": {},
     "output_type": "execute_result"
    }
   ],
   "source": [
    "df.shape"
   ]
  },
  {
   "cell_type": "code",
   "execution_count": 14,
   "id": "bb5214c9-89a0-4238-8004-1456e1dcb060",
   "metadata": {
    "tags": []
   },
   "outputs": [
    {
     "data": {
      "text/plain": [
       "33.21052631578947"
      ]
     },
     "execution_count": 14,
     "metadata": {},
     "output_type": "execute_result"
    }
   ],
   "source": [
    "df.age.mean()"
   ]
  },
  {
   "cell_type": "code",
   "execution_count": 15,
   "id": "f36986bc-d7fc-4fc6-8f76-c5b57421219c",
   "metadata": {
    "tags": []
   },
   "outputs": [
    {
     "data": {
      "text/plain": [
       "Index(['id', 'username', 'email', 'age'], dtype='object')"
      ]
     },
     "execution_count": 15,
     "metadata": {},
     "output_type": "execute_result"
    }
   ],
   "source": [
    "df.columns"
   ]
  },
  {
   "cell_type": "code",
   "execution_count": 16,
   "id": "7be1f9c6-a523-4051-8194-fb02ee60d6eb",
   "metadata": {
    "tags": []
   },
   "outputs": [
    {
     "data": {
      "text/html": [
       "<div>\n",
       "<style scoped>\n",
       "    .dataframe tbody tr th:only-of-type {\n",
       "        vertical-align: middle;\n",
       "    }\n",
       "\n",
       "    .dataframe tbody tr th {\n",
       "        vertical-align: top;\n",
       "    }\n",
       "\n",
       "    .dataframe thead th {\n",
       "        text-align: right;\n",
       "    }\n",
       "</style>\n",
       "<table border=\"1\" class=\"dataframe\">\n",
       "  <thead>\n",
       "    <tr style=\"text-align: right;\">\n",
       "      <th></th>\n",
       "      <th>username</th>\n",
       "      <th>age</th>\n",
       "    </tr>\n",
       "  </thead>\n",
       "  <tbody>\n",
       "    <tr>\n",
       "      <th>0</th>\n",
       "      <td>Alexey</td>\n",
       "      <td>27</td>\n",
       "    </tr>\n",
       "    <tr>\n",
       "      <th>1</th>\n",
       "      <td>Anastasiya</td>\n",
       "      <td>28</td>\n",
       "    </tr>\n",
       "    <tr>\n",
       "      <th>2</th>\n",
       "      <td>Kate</td>\n",
       "      <td>29</td>\n",
       "    </tr>\n",
       "    <tr>\n",
       "      <th>3</th>\n",
       "      <td>Igor</td>\n",
       "      <td>24</td>\n",
       "    </tr>\n",
       "    <tr>\n",
       "      <th>4</th>\n",
       "      <td>Oleg</td>\n",
       "      <td>32</td>\n",
       "    </tr>\n",
       "    <tr>\n",
       "      <th>5</th>\n",
       "      <td>Vasya</td>\n",
       "      <td>41</td>\n",
       "    </tr>\n",
       "    <tr>\n",
       "      <th>6</th>\n",
       "      <td>Masha</td>\n",
       "      <td>21</td>\n",
       "    </tr>\n",
       "    <tr>\n",
       "      <th>7</th>\n",
       "      <td>Petr</td>\n",
       "      <td>24</td>\n",
       "    </tr>\n",
       "    <tr>\n",
       "      <th>8</th>\n",
       "      <td>Ivan</td>\n",
       "      <td>25</td>\n",
       "    </tr>\n",
       "    <tr>\n",
       "      <th>9</th>\n",
       "      <td>Olesya</td>\n",
       "      <td>31</td>\n",
       "    </tr>\n",
       "    <tr>\n",
       "      <th>10</th>\n",
       "      <td>Irina</td>\n",
       "      <td>61</td>\n",
       "    </tr>\n",
       "    <tr>\n",
       "      <th>11</th>\n",
       "      <td>Vlad</td>\n",
       "      <td>24</td>\n",
       "    </tr>\n",
       "    <tr>\n",
       "      <th>12</th>\n",
       "      <td>Gans</td>\n",
       "      <td>32</td>\n",
       "    </tr>\n",
       "    <tr>\n",
       "      <th>13</th>\n",
       "      <td>Mira</td>\n",
       "      <td>41</td>\n",
       "    </tr>\n",
       "    <tr>\n",
       "      <th>14</th>\n",
       "      <td>Lira</td>\n",
       "      <td>21</td>\n",
       "    </tr>\n",
       "    <tr>\n",
       "      <th>15</th>\n",
       "      <td>Natali</td>\n",
       "      <td>24</td>\n",
       "    </tr>\n",
       "    <tr>\n",
       "      <th>16</th>\n",
       "      <td>Egor</td>\n",
       "      <td>32</td>\n",
       "    </tr>\n",
       "    <tr>\n",
       "      <th>17</th>\n",
       "      <td>John</td>\n",
       "      <td>81</td>\n",
       "    </tr>\n",
       "    <tr>\n",
       "      <th>18</th>\n",
       "      <td>Sam</td>\n",
       "      <td>33</td>\n",
       "    </tr>\n",
       "  </tbody>\n",
       "</table>\n",
       "</div>"
      ],
      "text/plain": [
       "      username  age\n",
       "0       Alexey   27\n",
       "1   Anastasiya   28\n",
       "2         Kate   29\n",
       "3         Igor   24\n",
       "4         Oleg   32\n",
       "5        Vasya   41\n",
       "6        Masha   21\n",
       "7         Petr   24\n",
       "8         Ivan   25\n",
       "9       Olesya   31\n",
       "10       Irina   61\n",
       "11        Vlad   24\n",
       "12        Gans   32\n",
       "13        Mira   41\n",
       "14        Lira   21\n",
       "15      Natali   24\n",
       "16        Egor   32\n",
       "17        John   81\n",
       "18         Sam   33"
      ]
     },
     "execution_count": 16,
     "metadata": {},
     "output_type": "execute_result"
    }
   ],
   "source": [
    "df[['username','age']]"
   ]
  },
  {
   "cell_type": "code",
   "execution_count": 157,
   "id": "8b119536-be21-40d6-bdce-4228b753cca5",
   "metadata": {
    "tags": []
   },
   "outputs": [],
   "source": [
    "import matplotlib.pyplot as plt\n",
    "import numpy as np\n",
    "import seaborn as sns"
   ]
  },
  {
   "cell_type": "code",
   "execution_count": 188,
   "id": "5a9053da-6875-4185-b919-2320f08cf32e",
   "metadata": {
    "tags": []
   },
   "outputs": [
    {
     "data": {
      "image/png": "[encoded data removed]",
      "text/plain": [
       "<Figure size 1000x600 with 1 Axes>"
      ]
     },
     "metadata": {},
     "output_type": "display_data"
    }
   ],
   "source": [
    "fig, ax = plt.subplots(figsize=(10,6))\n",
    "fig = sns.barplot(x = 'username',y = 'age', data = df, color ='aqua', edgecolor = 'black', estimator = np.median)\n",
    "for bar in fig.patches:\n",
    "   \n",
    "  # Using Matplotlib's annotate function and\n",
    "  # passing the coordinates where the annotation shall be done\n",
    "  # x-coordinate: bar.get_x() + bar.get_width() / 2\n",
    "  # y-coordinate: bar.get_height()\n",
    "  # free space to be left to make graph pleasing: (0, 8)\n",
    "  # ha and va stand for the horizontal and vertical alignment\n",
    "    fig.annotate(format(bar.get_height()), \n",
    "                   (bar.get_x() + bar.get_width() / 2, \n",
    "                    bar.get_height()), ha='center', va='center',\n",
    "                   size=10, xytext=(0, 8),color = 'black',fontweight = 'bold',\n",
    "                   textcoords='offset points')\n",
    "ax.set_facecolor(\"pink\")\n",
    "plt.grid(which='major', color='grey', linewidth=1,linestyle='--',axis = 'both')\n",
    "plt.xlabel('Name',size=15)\n",
    "plt.ylabel('Age',size=15)\n",
    "plt.title('Personals',fontweight='bold',size=18)\n",
    "plt.xticks(df.index,labels = df['username'], rotation =65)\n",
    "plt.show()"
   ]
  },
  {
   "cell_type": "code",
   "execution_count": null,
   "id": "96847315-8193-4941-aea7-d9b3d4d1c9d9",
   "metadata": {},
   "outputs": [],
   "source": []
  }
 ],
 "metadata": {
  "kernelspec": {
   "display_name": "auto_env",
   "language": "python",
   "name": "auto_env"
  },
  "language_info": {
   "codemirror_mode": {
    "name": "ipython",
    "version": 3
   },
   "file_extension": ".py",
   "mimetype": "text/x-python",
   "name": "python",
   "nbconvert_exporter": "python",
   "pygments_lexer": "ipython3",
   "version": "3.12.0"
  }
 },
 "nbformat": 4,
 "nbformat_minor": 5
}
