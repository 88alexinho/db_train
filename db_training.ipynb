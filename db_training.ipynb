{
 "cells": [
  {
   "cell_type": "code",
   "execution_count": 12,
   "id": "09cdf823-04fa-4816-997f-8883b8112a5f",
   "metadata": {
    "tags": []
   },
   "outputs": [],
   "source": [
    "import sqlite3\n",
    "connection = sqlite3.connect('db_train.db')\n",
    "cursor = connection.cursor()\n",
    "\n",
    "# Создаем таблицу Users\n",
    "cursor.execute('''\n",
    "CREATE TABLE IF NOT EXISTS Users (\n",
    "id INTEGER PRIMARY KEY,\n",
    "username TEXT NOT NULL,\n",
    "email TEXT NOT NULL,\n",
    "age INTEGER\n",
    ")\n",
    "''')\n",
    "\n",
    "# Сохраняем изменения и закрываем соединение\n",
    "connection.commit()\n",
    "connection.close()"
   ]
  },
  {
   "cell_type": "code",
   "execution_count": 13,
   "id": "d72225ca-dd04-44bc-ae4f-4fb186c25a90",
   "metadata": {
    "tags": []
   },
   "outputs": [],
   "source": [
    "connection = sqlite3.connect('db_train.db')\n",
    "cursor = connection.cursor()\n",
    "cursor.execute('INSERT INTO Users (username, email, age) VALUES (?, ?, ?)', ('Alexey', 'alex12_8belov@mail.ru', 27))\n",
    "\n",
    "# Сохраняем изменения и закрываем соединение\n",
    "connection.commit()\n",
    "connection.close()"
   ]
  },
  {
   "cell_type": "code",
   "execution_count": 14,
   "id": "5183fe53-8ed6-4650-9923-2ef88a54978f",
   "metadata": {
    "tags": []
   },
   "outputs": [],
   "source": [
    "connection = sqlite3.connect('db_train.db')\n",
    "cursor = connection.cursor()\n",
    "cursor.execute('INSERT INTO Users (username, email, age) VALUES (?, ?, ?)', ('Anastasiya', 'nasty_belova@mail.ru', 28))\n",
    "\n",
    "# Сохраняем изменения и закрываем соединение\n",
    "connection.commit()\n",
    "connection.close()"
   ]
  },
  {
   "cell_type": "code",
   "execution_count": 15,
   "id": "d1ee99e7-bbf3-4ec2-aeeb-21f27c27f583",
   "metadata": {
    "tags": []
   },
   "outputs": [],
   "source": [
    "connection = sqlite3.connect('db_train.db')\n",
    "cursor = connection.cursor()\n",
    "cursor.execute('INSERT INTO Users (username, email, age) VALUES (?, ?, ?)', ('Kate', 'kate_belova@mail.ru', 29))\n",
    "\n",
    "# Сохраняем изменения и закрываем соединение\n",
    "connection.commit()\n",
    "connection.close()\n",
    "\n"
   ]
  },
  {
   "cell_type": "code",
   "execution_count": 16,
   "id": "65d2eb5d-3c04-4bca-9a14-9f0fae53ddb9",
   "metadata": {
    "tags": []
   },
   "outputs": [],
   "source": [
    "connection = sqlite3.connect('db_train.db')\n",
    "cursor = connection.cursor()\n",
    "data = [\n",
    "('Igor', 'igor_kaif@mail.ru', 24),\n",
    "('Oleg', 'oleg_igget@mail.ru', 32),\n",
    "('Vasya', 'vasya@mail.ru', 41),\n",
    "('Masha', 'masha@mail.ru', 21)]\n",
    "cursor.executemany('INSERT INTO Users (username, email, age) VALUES (?, ?, ?)',data);\n",
    "\n",
    "# Сохраняем изменения и закрываем соединение\n",
    "connection.commit()\n",
    "connection.close()\n"
   ]
  },
  {
   "cell_type": "code",
   "execution_count": 17,
   "id": "b04d3d97-e163-465f-b2dc-f0a257ec8a4d",
   "metadata": {
    "tags": []
   },
   "outputs": [],
   "source": [
    "connection = sqlite3.connect('db_train.db')\n",
    "cursor = connection.cursor()\n",
    "data = [\n",
    "('Petr', 'PeTer@mail.ru', 24),\n",
    "('Ivan', 'Ivanches@mail.ru', 25),\n",
    "('Olesya', 'Ol@mail.ru', 31),\n",
    "('Irina', 'Ir@mail.ru', 61),\n",
    "('Vlad', 'Vladik@mail.ru', 24),\n",
    "('Gans', 'GNS@mail.ru', 32),\n",
    "('Mira', 'miiira@mail.ru', 41),\n",
    "('Lira', 'liiiira@mail.ru', 21),\n",
    "('Natali', 'Nat@mail.ru', 24),\n",
    "('Egor', 'egotchik_igget@mail.ru', 32),\n",
    "('John', 'jonnny@mail.ru', 81),\n",
    "('Sam', 'sam@mail.ru', 33)]\n",
    "cursor.executemany('INSERT INTO Users (username, email, age) VALUES(?,?,?)',data);\n",
    "\n",
    "# Сохраняем изменения и закрываем соединение\n",
    "connection.commit()\n",
    "connection.close()"
   ]
  }
 ],
 "metadata": {
  "kernelspec": {
   "display_name": "auto_env",
   "language": "python",
   "name": "auto_env"
  },
  "language_info": {
   "codemirror_mode": {
    "name": "ipython",
    "version": 3
   },
   "file_extension": ".py",
   "mimetype": "text/x-python",
   "name": "python",
   "nbconvert_exporter": "python",
   "pygments_lexer": "ipython3",
   "version": "3.12.0"
  }
 },
 "nbformat": 4,
 "nbformat_minor": 5
}
